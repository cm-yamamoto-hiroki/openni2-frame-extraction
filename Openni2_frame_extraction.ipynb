{
  "nbformat": 4,
  "nbformat_minor": 0,
  "metadata": {
    "colab": {
      "name": "Openni2 frame extraction",
      "provenance": [],
      "collapsed_sections": [],
      "authorship_tag": "ABX9TyO1cwRb3O85aGVr2pPlajec",
      "include_colab_link": true
    },
    "kernelspec": {
      "name": "python3",
      "display_name": "Python 3"
    }
  },
  "cells": [
    {
      "cell_type": "markdown",
      "metadata": {
        "id": "view-in-github",
        "colab_type": "text"
      },
      "source": [
        "<a href=\"https://colab.research.google.com/github/martinimass/openni2-frame-extraction/blob/main/Openni2_frame_extraction.ipynb\" target=\"_parent\"><img src=\"https://colab.research.google.com/assets/colab-badge.svg\" alt=\"Open In Colab\"/></a>"
      ]
    },
    {
      "cell_type": "markdown",
      "metadata": {
        "id": "N7m_YjTacOae"
      },
      "source": [
        "# Openni2 Frame Extraction Example"
      ]
    },
    {
      "cell_type": "markdown",
      "metadata": {
        "id": "bgXZWT81cLzI"
      },
      "source": [
        "## Dependency"
      ]
    },
    {
      "cell_type": "code",
      "metadata": {
        "id": "2bFw-IpSWR40"
      },
      "source": [
        "!git clone https://github.com/martinimass/openni2-frame-extraction"
      ],
      "execution_count": null,
      "outputs": []
    },
    {
      "cell_type": "code",
      "metadata": {
        "id": "Fc4T0jCzXjQ1"
      },
      "source": [
        "%cd openni2-frame-extraction/"
      ],
      "execution_count": null,
      "outputs": []
    },
    {
      "cell_type": "code",
      "metadata": {
        "id": "NrXpzGmiQM23"
      },
      "source": [
        "!pip install openni"
      ],
      "execution_count": null,
      "outputs": []
    },
    {
      "cell_type": "markdown",
      "metadata": {
        "id": "6fjP8SAbcgpR"
      },
      "source": [
        "## Utility"
      ]
    },
    {
      "cell_type": "code",
      "metadata": {
        "id": "-j62zm0NOQta"
      },
      "source": [
        "import os\r\n",
        "import sys\r\n",
        "import cv2\r\n",
        "from openni import openni2\r\n",
        "import argparse\r\n",
        "import numpy as np\r\n",
        "\r\n",
        "def openDevice(video_path):\r\n",
        "    try:\r\n",
        "        if sys.platform == \"win32\":\r\n",
        "           libpath = \"lib/Windows\"\r\n",
        "        else:\r\n",
        "            libpath = \"lib/Linux\"\r\n",
        "        openni2.initialize(libpath)\r\n",
        "        dev = openni2.Device.open_file(video_path)\r\n",
        "        pbs = openni2.PlaybackSupport(dev)\r\n",
        "\r\n",
        "        pbs.set_repeat_enabled(False)\r\n",
        "        pbs.set_speed(-1.0)\r\n",
        "\r\n",
        "        return dev,pbs\r\n",
        "    except Exception as ex:\r\n",
        "        print(ex)\r\n",
        "        raise Exception(\"Initialization Error\")\r\n",
        "\r\n",
        "def processDepth(dev,pbs,interval,dst):\r\n",
        "    try:\r\n",
        "        depth_stream = dev.create_depth_stream()\r\n",
        "        depth_stream.start()\r\n",
        "        print(\"Depth frames: \" + str(depth_stream.get_number_of_frames()))\r\n",
        "        for i in range(1,depth_stream.get_number_of_frames()+1,interval):\r\n",
        "            pbs.seek(depth_stream,i)\r\n",
        "            frame_depth = depth_stream.read_frame()\r\n",
        "            #print(frame_depth.timestamp)\r\n",
        "            frame_depth_data = frame_depth.get_buffer_as_uint16()\r\n",
        "\r\n",
        "            depth_array = np.ndarray((frame_depth.height, frame_depth.width),dtype=np.uint16,buffer=frame_depth_data)\r\n",
        "\r\n",
        "            #Depth frame conversion: from 16bit to 8bit\r\n",
        "            depth_scale_factor = 0.05\r\n",
        "            depth_scale_beta_factor = 0\r\n",
        "            depth_uint8 = depth_array * depth_scale_factor + depth_scale_beta_factor\r\n",
        "            depth_uint8[depth_uint8 > 255] = 255\r\n",
        "            depth_uint8[depth_uint8 < 0] = 0\r\n",
        "            depth_uint8 = depth_uint8.astype('uint8')\r\n",
        "\r\n",
        "            cv2.imwrite(dst + \"/\" + str(frame_depth.frameIndex) + \"_16bit.png\",depth_array)\r\n",
        "            cv2.imwrite(dst + \"/\" + str(frame_depth.frameIndex) + \"_8bit.png\",depth_uint8)\r\n",
        "        depth_stream.close()\r\n",
        "        print(\"All depth frames extracted\")\r\n",
        "    except Exception as ex:\r\n",
        "        print(\"Exception: {}\".format(ex))\r\n",
        "\r\n",
        "def processColor(dev,pbs,interval,dst):\r\n",
        "    try:\r\n",
        "        color_stream = dev.create_color_stream()\r\n",
        "        color_stream.start()\r\n",
        "        print(\"Color frames: \" + str(color_stream.get_number_of_frames()))\r\n",
        "        for i in range(1,color_stream.get_number_of_frames()+1,interval):\r\n",
        "            pbs.seek(color_stream,i)\r\n",
        "            frame_color = color_stream.read_frame()\r\n",
        "            #print(frame_color.timestamp)\r\n",
        "            frame_color_data = frame_color.get_buffer_as_uint8()\r\n",
        "            color_array = np.ndarray((frame_color.height, frame_color.width, 3),dtype=np.uint8,buffer=frame_color_data)\r\n",
        "            color_array = cv2.cvtColor(color_array, cv2.COLOR_BGR2RGB)\r\n",
        "            cv2.imwrite(dst + \"/\" + str(frame_color.frameIndex) + \"_color.png\",color_array)\r\n",
        "        color_stream.close()\r\n",
        "        print(\"All color frames extracted\")\r\n",
        "    except Exception as ex:\r\n",
        "        print(ex)\r\n",
        "\r\n",
        "\r\n"
      ],
      "execution_count": null,
      "outputs": []
    },
    {
      "cell_type": "markdown",
      "metadata": {
        "id": "zfBf5wqgcmmf"
      },
      "source": [
        "## Extraction"
      ]
    },
    {
      "cell_type": "code",
      "metadata": {
        "id": "hjNqABUXOyn9"
      },
      "source": [
        "interval = 1            # Interval\r\n",
        "dst = \"extraction\"      # Destination Folder\r\n",
        "video_path = \"002.oni\"  # Video Path\r\n",
        "\r\n",
        "if not os.path.exists(dst):\r\n",
        "    os.mkdir(dst)\r\n",
        "    print(\"Directory \",dst ,\" Created \")\r\n",
        "\r\n",
        "try:\r\n",
        "    dev,pbs = openDevice(video_path.encode('utf-8'))\r\n",
        "    pbs.set_repeat_enabled(True)\r\n",
        "\r\n",
        "    if dev.has_sensor(openni2.SENSOR_COLOR):\r\n",
        "        print(\"Color Stream found\")\r\n",
        "        processColor(dev,pbs,interval,dst)\r\n",
        "\r\n",
        "    if dev.has_sensor(openni2.SENSOR_DEPTH):\r\n",
        "        print(\"Depth Stream found\")\r\n",
        "        processDepth(dev,pbs,interval,dst)\r\n",
        "\r\n",
        "    print(\"Done!\")\r\n",
        "except Exception as ex:\r\n",
        "    print(ex)\r\n",
        "openni2.unload()\r\n"
      ],
      "execution_count": null,
      "outputs": []
    }
  ]
}